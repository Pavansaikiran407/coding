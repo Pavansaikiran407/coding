{
  "nbformat": 4,
  "nbformat_minor": 0,
  "metadata": {
    "colab": {
      "provenance": [],
      "authorship_tag": "ABX9TyPV+Ra99vChtnh/ATB5nStF"
    },
    "kernelspec": {
      "name": "python3",
      "display_name": "Python 3"
    },
    "language_info": {
      "name": "python"
    }
  },
  "cells": [
    {
      "cell_type": "code",
      "execution_count": 26,
      "metadata": {
        "colab": {
          "base_uri": "https://localhost:8080/"
        },
        "id": "_gTUsgegrPaB",
        "outputId": "6ae8df03-482e-481a-b199-fb0901efa35d"
      },
      "outputs": [
        {
          "output_type": "stream",
          "name": "stdout",
          "text": [
            " india to welcome\n"
          ]
        }
      ],
      "source": [
        "s=\"welcome to india\".split()\n",
        "n=\" \"\n",
        "for i in s[::-1]:\n",
        "  n+=i+\" \"\n",
        "st=n[:-1]\n",
        "print(st)"
      ]
    },
    {
      "cell_type": "code",
      "source": [
        "n=int(input())\n",
        "for i in range(n-1):\n",
        "  print(i**2)"
      ],
      "metadata": {
        "colab": {
          "base_uri": "https://localhost:8080/"
        },
        "id": "zKJYGUrosw3E",
        "outputId": "c2b8b218-a7c7-4a66-bc72-87e82c40d281"
      },
      "execution_count": 21,
      "outputs": [
        {
          "output_type": "stream",
          "name": "stdout",
          "text": [
            "6\n",
            "0\n",
            "1\n",
            "4\n",
            "9\n",
            "16\n"
          ]
        }
      ]
    }
  ]
}