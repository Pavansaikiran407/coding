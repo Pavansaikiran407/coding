{
  "nbformat": 4,
  "nbformat_minor": 0,
  "metadata": {
    "colab": {
      "provenance": [],
      "authorship_tag": "ABX9TyMCG+PcapKbZZAFenRmGhwm",
      "include_colab_link": true
    },
    "kernelspec": {
      "name": "python3",
      "display_name": "Python 3"
    },
    "language_info": {
      "name": "python"
    }
  },
  "cells": [
    {
      "cell_type": "markdown",
      "metadata": {
        "id": "view-in-github",
        "colab_type": "text"
      },
      "source": [
        "<a href=\"https://colab.research.google.com/github/Pavansaikiran407/coding/blob/master/27072023.ipynb\" target=\"_parent\"><img src=\"https://colab.research.google.com/assets/colab-badge.svg\" alt=\"Open In Colab\"/></a>"
      ]
    },
    {
      "cell_type": "code",
      "execution_count": 1,
      "metadata": {
        "colab": {
          "base_uri": "https://localhost:8080/"
        },
        "id": "g9_BAcPGaByO",
        "outputId": "83fa51f4-abc8-4bc4-8b5d-628bf45a253d"
      },
      "outputs": [
        {
          "output_type": "stream",
          "name": "stdout",
          "text": [
            "[9, 8, 1, 7, 2]\n"
          ]
        }
      ],
      "source": [
        "num=[9,81,72]\n",
        "s=\"\"\n",
        "for i in num:\n",
        "    s+=str(i)\n",
        "res=[]\n",
        "for i in s:\n",
        "    res.append (int(i))\n",
        "print(res)"
      ]
    }
  ]
}