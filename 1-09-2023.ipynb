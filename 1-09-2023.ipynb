{
  "nbformat": 4,
  "nbformat_minor": 0,
  "metadata": {
    "colab": {
      "provenance": [],
      "authorship_tag": "ABX9TyMdffDHxUPbnI1+VgoEVW9G",
      "include_colab_link": true
    },
    "kernelspec": {
      "name": "python3",
      "display_name": "Python 3"
    },
    "language_info": {
      "name": "python"
    }
  },
  "cells": [
    {
      "cell_type": "markdown",
      "metadata": {
        "id": "view-in-github",
        "colab_type": "text"
      },
      "source": [
        "<a href=\"https://colab.research.google.com/github/Pavansaikiran407/coding/blob/master/1-09-2023.ipynb\" target=\"_parent\"><img src=\"https://colab.research.google.com/assets/colab-badge.svg\" alt=\"Open In Colab\"/></a>"
      ]
    },
    {
      "cell_type": "code",
      "execution_count": 1,
      "metadata": {
        "colab": {
          "base_uri": "https://localhost:8080/"
        },
        "id": "jX4nfAuQAXFg",
        "outputId": "05c37bc1-9517-4a5f-b87b-750c96b42457"
      },
      "outputs": [
        {
          "output_type": "stream",
          "name": "stdout",
          "text": [
            "5\n"
          ]
        }
      ],
      "source": [
        "def lonelynumber(n):\n",
        "  s=[]\n",
        "  for i in n:\n",
        "    v=n.count(i)\n",
        "    if v<2:\n",
        "      s.append(i)\n",
        "  print(s[0])\n",
        "lonelynumber((1,2,2,4,5,4,1,))"
      ]
    },
    {
      "cell_type": "code",
      "source": [],
      "metadata": {
        "id": "vYzwFmbmBtBK"
      },
      "execution_count": null,
      "outputs": []
    }
  ]
}