{
  "nbformat": 4,
  "nbformat_minor": 0,
  "metadata": {
    "colab": {
      "provenance": [],
      "authorship_tag": "ABX9TyPmcI0QN0xH6hoGExslJ6FU"
    },
    "kernelspec": {
      "name": "python3",
      "display_name": "Python 3"
    },
    "language_info": {
      "name": "python"
    }
  },
  "cells": [
    {
      "cell_type": "code",
      "execution_count": 1,
      "metadata": {
        "colab": {
          "base_uri": "https://localhost:8080/"
        },
        "id": "3AS4CkSJZamw",
        "outputId": "31ba8ed9-3430-4048-d6b1-2b6dfa0b5da9"
      },
      "outputs": [
        {
          "output_type": "stream",
          "name": "stdout",
          "text": [
            "enter range10\n",
            "0 1 1 2 3 5 8 13 21 34 "
          ]
        }
      ],
      "source": [
        "n=int(input(\"enter range\"))\n",
        "n1=0\n",
        "n2=1\n",
        "print(n1,n2,end=\" \")\n",
        "for i in range(2,n):\n",
        "  n3=n1+n2\n",
        "  n1=n2\n",
        "  n2=n3\n",
        "  print(n3,end=\" \")"
      ]
    }
  ]
}