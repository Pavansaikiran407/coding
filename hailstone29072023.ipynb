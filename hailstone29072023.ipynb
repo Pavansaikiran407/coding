{
  "nbformat": 4,
  "nbformat_minor": 0,
  "metadata": {
    "colab": {
      "provenance": [],
      "authorship_tag": "ABX9TyOFBJgC52HYnRO9m9JjUAGM"
    },
    "kernelspec": {
      "name": "python3",
      "display_name": "Python 3"
    },
    "language_info": {
      "name": "python"
    }
  },
  "cells": [
    {
      "cell_type": "code",
      "execution_count": 1,
      "metadata": {
        "colab": {
          "base_uri": "https://localhost:8080/"
        },
        "id": "wz46p0ISbwwD",
        "outputId": "1516f71a-7d99-45f6-88d2-ef80fd767474"
      },
      "outputs": [
        {
          "output_type": "stream",
          "name": "stdout",
          "text": [
            "enter a number7\n",
            "7\n",
            "22\n",
            "11\n",
            "34\n",
            "17\n",
            "52\n",
            "26\n",
            "13\n",
            "40\n",
            "20\n",
            "10\n",
            "5\n",
            "16\n",
            "8\n",
            "4\n",
            "2\n"
          ]
        }
      ],
      "source": [
        "no=int(input(\"enter a number\"))\n",
        "while no!=1:\n",
        "  print(no)\n",
        "  if no%2==0:\n",
        "    no=no//2\n",
        "  else:\n",
        "      no=no*3+1"
      ]
    }
  ]
}