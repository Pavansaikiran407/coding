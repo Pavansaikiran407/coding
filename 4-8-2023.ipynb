{
  "nbformat": 4,
  "nbformat_minor": 0,
  "metadata": {
    "colab": {
      "provenance": [],
      "authorship_tag": "ABX9TyMgIKgMY/aAH5Q0OMp3tIdb"
    },
    "kernelspec": {
      "name": "python3",
      "display_name": "Python 3"
    },
    "language_info": {
      "name": "python"
    }
  },
  "cells": [
    {
      "cell_type": "code",
      "execution_count": 12,
      "metadata": {
        "colab": {
          "base_uri": "https://localhost:8080/"
        },
        "id": "9aZMj6BBvPNq",
        "outputId": "53c3c0b8-db24-4ce8-e33e-d3117ab79d4b"
      },
      "outputs": [
        {
          "output_type": "stream",
          "name": "stdout",
          "text": [
            "[1, 2, 4, 8, 0, 0, 0]\n"
          ]
        }
      ],
      "source": [
        "\n",
        "nums=[0,1,2,4,0,8,0]\n",
        "n1=[]\n",
        "n2=[]\n",
        "for i in nums:\n",
        "  if i==0:\n",
        "   n1.append(i)\n",
        "  else:\n",
        "    n2.append(i)\n",
        "print(n2+n1)"
      ]
    },
    {
      "cell_type": "code",
      "source": [
        "nums=[0,1,2,4,5,0]\n",
        "n1=[]\n",
        "n2=[]\n",
        "for i in nums:\n",
        "  if i==0:\n",
        "   n1.append(i)\n",
        "  else:\n",
        "    n2.append(i)\n",
        "k=int(len(n2)/2)\n",
        "p=n2[:k]\n",
        "p1=n2[k:]\n",
        "print(p+n1+p1)"
      ],
      "metadata": {
        "colab": {
          "base_uri": "https://localhost:8080/"
        },
        "id": "y4vnsQiqw2jJ",
        "outputId": "8bdfd02d-c825-4285-fc46-bad8d0639262"
      },
      "execution_count": 13,
      "outputs": [
        {
          "output_type": "stream",
          "name": "stdout",
          "text": [
            "[1, 2, 0, 0, 4, 5]\n"
          ]
        }
      ]
    },
    {
      "cell_type": "code",
      "source": [
        "n=int(input())\n",
        "if n%2==0:\n",
        "  if n>6 and n<=20:\n",
        "    print(\"wired\")\n",
        "  else:\n",
        "    print(\"not wired\")\n",
        "else:\n",
        "  print(\"wired\")"
      ],
      "metadata": {
        "colab": {
          "base_uri": "https://localhost:8080/"
        },
        "id": "xNcIMjjzyWJO",
        "outputId": "c3eaab05-37ac-4d11-cde5-1118e2214102"
      },
      "execution_count": 15,
      "outputs": [
        {
          "output_type": "stream",
          "name": "stdout",
          "text": [
            "4\n",
            "not wired\n"
          ]
        }
      ]
    }
  ]
}