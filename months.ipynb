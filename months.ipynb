{
  "nbformat": 4,
  "nbformat_minor": 0,
  "metadata": {
    "colab": {
      "provenance": [],
      "authorship_tag": "ABX9TyPFlTasJ5fM6N/B73wN8Jlx"
    },
    "kernelspec": {
      "name": "python3",
      "display_name": "Python 3"
    },
    "language_info": {
      "name": "python"
    }
  },
  "cells": [
    {
      "cell_type": "code",
      "execution_count": 14,
      "metadata": {
        "colab": {
          "base_uri": "https://localhost:8080/"
        },
        "id": "3AS4CkSJZamw",
        "outputId": "1c5f0c46-5eeb-4643-d810-1b5f313ed167"
      },
      "outputs": [
        {
          "output_type": "stream",
          "name": "stdout",
          "text": [
            "enter month7\n",
            "31days\n"
          ]
        }
      ],
      "source": [
        "m=int(input(\"enter month\"))\n",
        "if (m==2):\n",
        "  print(\"28days/29days\")\n",
        "elif m in[1,3,5,7,8,10,12]:\n",
        "  print(\"31days\")\n",
        "else:\n",
        "  print(\"30days\")"
      ]
    }
  ]
}